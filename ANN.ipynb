{
 "cells": [
  {
   "cell_type": "code",
   "execution_count": 3,
   "metadata": {},
   "outputs": [],
   "source": [
    "# Importing the libraries\n",
    "import numpy as np\n",
    "import matplotlib.pyplot as plt\n",
    "import pandas as pd\n",
    "\n",
    "# Importing the dataset\n",
    "dataset = pd.read_csv('Tweets.csv')"
   ]
  },
  {
   "cell_type": "code",
   "execution_count": 4,
   "metadata": {},
   "outputs": [
    {
     "name": "stdout",
     "output_type": "stream",
     "text": [
      "[nltk_data] Downloading package stopwords to C:\\Users\\Harkirat\n",
      "[nltk_data]     Singh\\AppData\\Roaming\\nltk_data...\n",
      "[nltk_data]   Package stopwords is already up-to-date!\n"
     ]
    }
   ],
   "source": [
    "# Cleaning the texts\n",
    "import re\n",
    "import nltk\n",
    "nltk.download('stopwords')\n",
    "from nltk.corpus import stopwords\n",
    "from nltk.stem.porter import PorterStemmer\n",
    "corpus = []\n",
    "for i in range(0, 14640):\n",
    "    review = re.sub('[^a-zA-Z]', ' ', dataset['text'][i])\n",
    "    review = review.lower()\n",
    "    review = review.split()\n",
    "    ps = PorterStemmer()\n",
    "    review = [ps.stem(word) for word in review if not word in set(stopwords.words('english'))]\n",
    "    review = ' '.join(review)\n",
    "    corpus.append(review)"
   ]
  },
  {
   "cell_type": "code",
   "execution_count": 67,
   "metadata": {},
   "outputs": [],
   "source": [
    "# Creating the Bag of Words model\n",
    "from sklearn.feature_extraction.text import CountVectorizer\n",
    "cv = CountVectorizer(max_features = 10000)\n",
    "X = cv.fit_transform(corpus).toarray()\n",
    "Y = dataset.iloc[:, 1].values"
   ]
  },
  {
   "cell_type": "code",
   "execution_count": 68,
   "metadata": {},
   "outputs": [],
   "source": [
    "from sklearn.preprocessing import LabelEncoder, OneHotEncoder\n",
    "# Encoding the Dependent Variable\n",
    "labelencoder_Y = LabelEncoder()\n",
    "Y = labelencoder_Y.fit_transform(Y)\n",
    "Y = np.reshape(Y, (-1, 1))\n",
    "onehotencoder = OneHotEncoder()\n",
    "Y = onehotencoder.fit_transform(Y).toarray()"
   ]
  },
  {
   "cell_type": "code",
   "execution_count": 69,
   "metadata": {},
   "outputs": [],
   "source": [
    "# Splitting the dataset into the Training set and Test set\n",
    "from sklearn.cross_validation import train_test_split\n",
    "X_train, X_test, Y_train, Y_test = train_test_split(X, Y, test_size = 0.20, random_state = 42)"
   ]
  },
  {
   "cell_type": "code",
   "execution_count": 123,
   "metadata": {},
   "outputs": [],
   "source": [
    "# Importing the Keras libraries and packages\n",
    "import keras\n",
    "from keras.models import Sequential\n",
    "from keras.layers import Dense"
   ]
  },
  {
   "cell_type": "code",
   "execution_count": 158,
   "metadata": {},
   "outputs": [
    {
     "name": "stderr",
     "output_type": "stream",
     "text": [
      "C:\\ProgramData\\Anaconda3\\envs\\py35\\lib\\site-packages\\ipykernel_launcher.py:5: UserWarning: Update your `Dense` call to the Keras 2 API: `Dense(kernel_initializer=\"uniform\", activation=\"relu\", input_dim=10000, units=64)`\n",
      "  \"\"\"\n",
      "C:\\ProgramData\\Anaconda3\\envs\\py35\\lib\\site-packages\\ipykernel_launcher.py:8: UserWarning: Update your `Dense` call to the Keras 2 API: `Dense(kernel_initializer=\"uniform\", activation=\"relu\", units=64)`\n",
      "  \n",
      "C:\\ProgramData\\Anaconda3\\envs\\py35\\lib\\site-packages\\ipykernel_launcher.py:11: UserWarning: Update your `Dense` call to the Keras 2 API: `Dense(kernel_initializer=\"uniform\", activation=\"softmax\", units=3)`\n",
      "  # This is added back by InteractiveShellApp.init_path()\n"
     ]
    }
   ],
   "source": [
    "# Initialising the ANN\n",
    "classifier = Sequential()\n",
    "\n",
    "# Adding the input layer and the first hidden layer\n",
    "classifier.add(Dense(output_dim = 64, init = 'uniform', activation = 'relu', input_dim = 10000))\n",
    "\n",
    "# Adding the second hidden layer\n",
    "classifier.add(Dense(output_dim = 64, init = 'uniform', activation = 'relu'))\n",
    "\n",
    "# Adding the output layer\n",
    "classifier.add(Dense(output_dim = 3, init = 'uniform', activation = 'softmax'))"
   ]
  },
  {
   "cell_type": "code",
   "execution_count": 159,
   "metadata": {},
   "outputs": [],
   "source": [
    "# Compiling the ANN\n",
    "classifier.compile(optimizer = 'adam', loss = 'categorical_crossentropy', metrics = ['accuracy'])"
   ]
  },
  {
   "cell_type": "code",
   "execution_count": 164,
   "metadata": {},
   "outputs": [
    {
     "name": "stdout",
     "output_type": "stream",
     "text": [
      "Epoch 1/30\n",
      "\r",
      "  512/11712 [>.............................] - ETA: 2s - loss: 0.0166 - acc: 0.9961"
     ]
    },
    {
     "name": "stderr",
     "output_type": "stream",
     "text": [
      "C:\\ProgramData\\Anaconda3\\envs\\py35\\lib\\site-packages\\keras\\models.py:942: UserWarning: The `nb_epoch` argument in `fit` has been renamed `epochs`.\n",
      "  warnings.warn('The `nb_epoch` argument in `fit` '\n"
     ]
    },
    {
     "name": "stdout",
     "output_type": "stream",
     "text": [
      "11712/11712 [==============================] - 3s 230us/step - loss: 0.0203 - acc: 0.9939\n",
      "Epoch 2/30\n",
      "11712/11712 [==============================] - 3s 232us/step - loss: 0.0194 - acc: 0.9939\n",
      "Epoch 3/30\n",
      "11712/11712 [==============================] - 3s 222us/step - loss: 0.0191 - acc: 0.9938\n",
      "Epoch 4/30\n",
      "11712/11712 [==============================] - 3s 216us/step - loss: 0.0184 - acc: 0.9943\n",
      "Epoch 5/30\n",
      "11712/11712 [==============================] - 2s 213us/step - loss: 0.0181 - acc: 0.9940\n",
      "Epoch 6/30\n",
      "11712/11712 [==============================] - 2s 209us/step - loss: 0.0175 - acc: 0.9945\n",
      "Epoch 7/30\n",
      "11712/11712 [==============================] - 3s 231us/step - loss: 0.0170 - acc: 0.9942\n",
      "Epoch 8/30\n",
      "11712/11712 [==============================] - 2s 212us/step - loss: 0.0165 - acc: 0.9941\n",
      "Epoch 9/30\n",
      "11712/11712 [==============================] - 2s 208us/step - loss: 0.0162 - acc: 0.9942\n",
      "Epoch 10/30\n",
      "11712/11712 [==============================] - 2s 210us/step - loss: 0.0161 - acc: 0.9946\n",
      "Epoch 11/30\n",
      "11712/11712 [==============================] - 2s 208us/step - loss: 0.0157 - acc: 0.9943\n",
      "Epoch 12/30\n",
      "11712/11712 [==============================] - 2s 210us/step - loss: 0.0153 - acc: 0.9946\n",
      "Epoch 13/30\n",
      "11712/11712 [==============================] - 2s 208us/step - loss: 0.0152 - acc: 0.9950\n",
      "Epoch 14/30\n",
      "11712/11712 [==============================] - 2s 209us/step - loss: 0.0149 - acc: 0.9947\n",
      "Epoch 15/30\n",
      "11712/11712 [==============================] - 2s 211us/step - loss: 0.0145 - acc: 0.9950\n",
      "Epoch 16/30\n",
      "11712/11712 [==============================] - 3s 222us/step - loss: 0.0146 - acc: 0.9949\n",
      "Epoch 17/30\n",
      "11712/11712 [==============================] - 3s 226us/step - loss: 0.0145 - acc: 0.9945\n",
      "Epoch 18/30\n",
      "11712/11712 [==============================] - 3s 228us/step - loss: 0.0138 - acc: 0.9949\n",
      "Epoch 19/30\n",
      "11712/11712 [==============================] - 3s 214us/step - loss: 0.0135 - acc: 0.9950\n",
      "Epoch 20/30\n",
      "11712/11712 [==============================] - 2s 213us/step - loss: 0.0136 - acc: 0.9954\n",
      "Epoch 21/30\n",
      "11712/11712 [==============================] - 3s 216us/step - loss: 0.0142 - acc: 0.9950\n",
      "Epoch 22/30\n",
      "11712/11712 [==============================] - 2s 212us/step - loss: 0.0136 - acc: 0.9950\n",
      "Epoch 23/30\n",
      "11712/11712 [==============================] - 2s 209us/step - loss: 0.0129 - acc: 0.9950\n",
      "Epoch 24/30\n",
      "11712/11712 [==============================] - 2s 209us/step - loss: 0.0132 - acc: 0.9950\n",
      "Epoch 25/30\n",
      "11712/11712 [==============================] - 2s 208us/step - loss: 0.0126 - acc: 0.9950\n",
      "Epoch 26/30\n",
      "11712/11712 [==============================] - 2s 210us/step - loss: 0.0126 - acc: 0.9951\n",
      "Epoch 27/30\n",
      "11712/11712 [==============================] - 3s 221us/step - loss: 0.0129 - acc: 0.9950\n",
      "Epoch 28/30\n",
      "11712/11712 [==============================] - 2s 210us/step - loss: 0.0122 - acc: 0.9953\n",
      "Epoch 29/30\n",
      "11712/11712 [==============================] - 3s 214us/step - loss: 0.0120 - acc: 0.9956\n",
      "Epoch 30/30\n",
      "11712/11712 [==============================] - 2s 212us/step - loss: 0.0126 - acc: 0.9947\n"
     ]
    },
    {
     "data": {
      "text/plain": [
       "<keras.callbacks.History at 0x11fa4d85c88>"
      ]
     },
     "execution_count": 164,
     "metadata": {},
     "output_type": "execute_result"
    }
   ],
   "source": [
    "# Fitting the ANN to the Training set\n",
    "classifier.fit(X_train, Y_train, batch_size = 512, nb_epoch = 30)"
   ]
  },
  {
   "cell_type": "code",
   "execution_count": 165,
   "metadata": {},
   "outputs": [],
   "source": [
    "Y_pred = classifier.predict(X_test)"
   ]
  },
  {
   "cell_type": "code",
   "execution_count": 166,
   "metadata": {},
   "outputs": [],
   "source": [
    "Y_pred = (Y_pred >= 0.5)"
   ]
  },
  {
   "cell_type": "code",
   "execution_count": 167,
   "metadata": {},
   "outputs": [
    {
     "data": {
      "text/plain": [
       "0.7513661202185792"
      ]
     },
     "execution_count": 167,
     "metadata": {},
     "output_type": "execute_result"
    }
   ],
   "source": [
    "from sklearn.metrics import accuracy_score\n",
    "accuracy_score(Y_pred, Y_test)"
   ]
  },
  {
   "cell_type": "code",
   "execution_count": null,
   "metadata": {},
   "outputs": [],
   "source": []
  }
 ],
 "metadata": {
  "kernelspec": {
   "display_name": "Python 3",
   "language": "python",
   "name": "python3"
  },
  "language_info": {
   "codemirror_mode": {
    "name": "ipython",
    "version": 3
   },
   "file_extension": ".py",
   "mimetype": "text/x-python",
   "name": "python",
   "nbconvert_exporter": "python",
   "pygments_lexer": "ipython3",
   "version": "3.5.4"
  }
 },
 "nbformat": 4,
 "nbformat_minor": 2
}
